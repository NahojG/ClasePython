{
 "cells": [
  {
   "cell_type": "markdown",
   "metadata": {},
   "source": [
    "# Realizar una Prueba t para Muestras Independientes en Python\n",
    "\n",
    "Este tutorial explica cómo realizar una prueba t para muestras independientes en Python, utilizando una base de datos en Excel. Dependiendo de los supuestos que se cumplan, se utilizará la prueba t de Student, la prueba t de Welch o la prueba U de Mann-Whitney.\n",
    "\n",
    "## Pre-requisitos\n",
    "\n",
    "Asegúrate de tener instaladas las siguientes bibliotecas en Python:\n",
    "\n",
    "- pandas\n",
    "- scipy\n",
    "- openpyxl\n",
    "\n",
    "Instálalas usando pip si es necesario:\n",
    "\n",
    "```bash\n",
    "pip install pandas scipy openpyxl\n"
   ]
  },
  {
   "cell_type": "markdown",
   "metadata": {},
   "source": [
    "## Paso 1: Cargar los Datos desde Excel\n",
    "\n",
    "Carga tus datos desde un archivo Excel, asegurándote de que tu archivo tenga dos columnas de datos, una para cada grupo."
   ]
  },
  {
   "cell_type": "code",
   "execution_count": null,
   "metadata": {},
   "outputs": [],
   "source": [
    "import pandas as pd\n",
    "\n",
    "# Cargar datos desde Excel\n",
    "archivo_excel = 'ruta/a/tu/archivo.xlsx'\n",
    "datos = pd.read_excel(archivo_excel)"
   ]
  },
  {
   "cell_type": "markdown",
   "metadata": {},
   "source": [
    "## Paso 2: Verificar Supuestos\n",
    "\n",
    "Para decidir qué prueba utilizar, verifica los siguientes supuestos:\n",
    "\n",
    "### Supuesto de Normalidad\n",
    "\n",
    "Comprueba la normalidad en ambos grupos usando, por ejemplo, el test de Shapiro-Wilk."
   ]
  },
  {
   "cell_type": "code",
   "execution_count": null,
   "metadata": {},
   "outputs": [],
   "source": [
    "from scipy.stats import shapiro\n",
    "\n",
    "stat, p = shapiro(datos['grupo1'])\n",
    "print('Grupo 1 - Shapiro-Wilk:', stat, p)\n",
    "\n",
    "stat, p = shapiro(datos['grupo2'])\n",
    "print('Grupo 2 - Shapiro-Wilk:', stat, p)"
   ]
  },
  {
   "cell_type": "markdown",
   "metadata": {},
   "source": [
    "### Supuesto de Homogeneidad de Varianzas\n",
    "\n",
    "Comprueba si las varianzas de los grupos son similares usando el test de Levene."
   ]
  },
  {
   "cell_type": "code",
   "execution_count": null,
   "metadata": {},
   "outputs": [],
   "source": [
    "from scipy.stats import levene\n",
    "\n",
    "stat, p = levene(datos['grupo1'], datos['grupo2'])\n",
    "print('Levene:', stat, p)"
   ]
  },
  {
   "cell_type": "markdown",
   "metadata": {},
   "source": [
    "## Paso 3: Elegir y Realizar la Prueba Apropiada\n",
    "\n",
    "### Prueba t de Student\n",
    "\n",
    "Si ambos grupos son normales y tienen varianzas homogéneas.\n",
    "\n"
   ]
  },
  {
   "cell_type": "code",
   "execution_count": null,
   "metadata": {},
   "outputs": [],
   "source": [
    "from scipy.stats import ttest_ind\n",
    "\n",
    "t_stat, p_valor = ttest_ind(datos['grupo1'], datos['grupo2'], equal_var=True)\n",
    "print('t de Student:', t_stat, p_valor)\n",
    "\n",
    "# Prueba para H0: mu1 <= mu2 (la media de grupo1 es menor o igual que la de grupo2)\n",
    "if t_stat < 0:\n",
    "    # Ajusta el valor p para una prueba de una cola cuando t_stat es negativo\n",
    "    p_valor_una_cola_menor = p_valor / 2\n",
    "else:\n",
    "    # Si t_stat es positivo, usa el valor p de dos colas tal cual\n",
    "    p_valor_una_cola_menor = 1 - (p_valor / 2)\n",
    "\n",
    "# Prueba para H0: mu1 >= mu2 (la media de grupo1 es mayor o igual que la de grupo2)\n",
    "if t_stat > 0:\n",
    "    # Ajusta el valor p para una prueba de una cola cuando t_stat es positivo\n",
    "    p_valor_una_cola_mayor = p_valor / 2\n",
    "else:\n",
    "    # Si t_stat es negativo, usa el valor p de dos colas tal cual\n",
    "    p_valor_una_cola_mayor = 1 - (p_valor / 2)\n",
    "\n",
    "print(f\"Prueba para H0: mu1 <= mu2, t-stat: {t_stat}, p-valor: {p_valor_una_cola_menor}\")\n",
    "print(f\"Prueba para H0: mu1 >= mu2, t-stat: {t_stat}, p-valor: {p_valor_una_cola_mayor}\")"
   ]
  },
  {
   "cell_type": "markdown",
   "metadata": {},
   "source": [
    "### Prueba t de Welch\n",
    "\n",
    "Si ambos grupos son normales pero tienen varianzas heterogéneas."
   ]
  },
  {
   "cell_type": "code",
   "execution_count": null,
   "metadata": {},
   "outputs": [],
   "source": [
    "t_stat, p_valor = ttest_ind(datos['grupo1'], datos['grupo2'], equal_var=False)\n",
    "print('t de Welch:', t_stat, p_valor)"
   ]
  },
  {
   "cell_type": "markdown",
   "metadata": {},
   "source": [
    "### Prueba U de Mann-Whitney\n",
    "\n",
    "Si uno o ambos grupos no son normales."
   ]
  },
  {
   "cell_type": "code",
   "execution_count": null,
   "metadata": {},
   "outputs": [],
   "source": [
    "from scipy.stats import mannwhitneyu\n",
    "\n",
    "u_stat, p_valor = mannwhitneyu(datos['grupo1'], datos['grupo2'])\n",
    "print('U de Mann-Whitney:', u_stat, p_valor)\n"
   ]
  },
  {
   "cell_type": "code",
   "execution_count": null,
   "metadata": {},
   "outputs": [],
   "source": []
  },
  {
   "cell_type": "markdown",
   "metadata": {},
   "source": [
    "## Interpretación de los Resultados\n",
    "\n",
    "La interpretación del p-valor en cada caso te indicará si hay una diferencia significativa entre los grupos:\n",
    "\n",
    "    Si el p-valor es menor que 0.05, hay una diferencia significativa.\n",
    "    Si el p-valor es mayor que 0.05, no hay una diferencia significativa."
   ]
  }
 ],
 "metadata": {
  "kernelspec": {
   "display_name": "Python 3",
   "language": "python",
   "name": "python3"
  },
  "language_info": {
   "codemirror_mode": {
    "name": "ipython",
    "version": 3
   },
   "file_extension": ".py",
   "mimetype": "text/x-python",
   "name": "python",
   "nbconvert_exporter": "python",
   "pygments_lexer": "ipython3",
   "version": "3.11.6"
  }
 },
 "nbformat": 4,
 "nbformat_minor": 2
}
