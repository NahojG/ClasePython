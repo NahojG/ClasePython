{
 "cells": [
  {
   "cell_type": "markdown",
   "metadata": {},
   "source": [
    "El hígado, como órgano vital, desempeña una multitud de funciones cruciales en el cuerpo humano, incluyendo la desintoxicación, la síntesis de proteínas y la regulación metabólica. La evaluación de la función hepática es esencial para diagnosticar y monitorear enfermedades hepáticas. Las enzimas hepáticas, Aspartato Aminotransferasa (AST), Alanina Aminotransferasa (ALT) y Fosfatasa Alcalina (FA), son indicadores clínicos comunes utilizados para evaluar la función y la integridad hepática. Valores elevados de estas enzimas pueden indicar una variedad de condiciones patológicas hepáticas.\n",
    "\n",
    "En este estudio, se recolectaron datos de una muestra que representa a un grupo de pacientes. Las variables recolectadas incluyen edad, sexo y la presencia de condiciones hepáticas tales como hígado graso. Además, se registraron los valores de tres enzimas hepáticas: AST, ALT y FA. Estos valores se categorizaron en tres rangos distintos: valores normales, valores ligeramente elevados y valores muy elevados.\n",
    "\n",
    "Finalmente se define que una persona tiene una hepatopatia cuando más de una enzima hepática tiene valores muy elevados\n",
    "\n",
    "| ENZIMA | Niveles Normales (U/L) | Niveles Ligeramente Elevados (U/L) | Niveles Muy Elevados (U/L) |\n",
    "|--------|-------------------------|------------------------------------|----------------------------|\n",
    "| ALT    | (0 – 57]                | (57 – 75]                          | >75                        |\n",
    "| AST    | (0 – 41]                | (41 – 60]                          | >60                        |\n",
    "| FA     | (0 – 116]               | (116 – 150]                        | >150                       |\n"
   ]
  },
  {
   "cell_type": "code",
   "execution_count": null,
   "metadata": {},
   "outputs": [],
   "source": [
    "# Con las base de datos crear una nueva variable que defina si la persona tiene hepatopatia"
   ]
  },
  {
   "cell_type": "code",
   "execution_count": null,
   "metadata": {},
   "outputs": [],
   "source": [
    "# Determinar si existe diferencia entre el promedio de de AST, ALT y FA en personas con y sin hepatopatia"
   ]
  }
 ],
 "metadata": {
  "language_info": {
   "name": "python"
  }
 },
 "nbformat": 4,
 "nbformat_minor": 2
}
