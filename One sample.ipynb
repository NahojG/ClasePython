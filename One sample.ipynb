{
 "cells": [
  {
   "cell_type": "markdown",
   "metadata": {},
   "source": [
    "# Realizar una Prueba t de una Muestra en Python\n",
    "\n",
    "Este tutorial proporciona una guía paso a paso para realizar una prueba t de una muestra en Python, utilizando una base de datos en Excel. La prueba t de una muestra se utiliza para determinar si la media de una muestra difiere significativamente de una media poblacional conocida.\n",
    "\n",
    "## Pre-requisitos\n",
    "\n",
    "Antes de comenzar, asegúrate de tener instaladas las siguientes bibliotecas en Python:\n",
    "\n",
    "- pandas\n",
    "- scipy\n",
    "- openpyxl\n",
    "\n",
    "Puedes instalarlas usando pip:\n",
    "\n",
    "```bash\n",
    "pip install pandas scipy openpyxl\n"
   ]
  },
  {
   "cell_type": "markdown",
   "metadata": {},
   "source": [
    "## Paso 1: Cargar los Datos desde Excel\n",
    "\n",
    "Primero, necesitas cargar tus datos desde un archivo Excel. Asegúrate de que tu archivo Excel solo tenga una columna de datos para la variable que estás analizando."
   ]
  },
  {
   "cell_type": "code",
   "execution_count": null,
   "metadata": {},
   "outputs": [],
   "source": [
    "import pandas as pd\n",
    "\n",
    "# Cargar datos desde Excel\n",
    "archivo_excel = 'ruta/a/tu/archivo.xlsx'\n",
    "datos = pd.read_excel(archivo_excel)"
   ]
  },
  {
   "cell_type": "markdown",
   "metadata": {},
   "source": [
    "## Paso 2: Verificar Supuestos\n",
    "\n",
    "Antes de realizar la prueba t, debes verificar algunos supuestos:\n",
    "Supuesto de Normalidad\n",
    "\n",
    "El principal supuesto para una prueba t es que los datos deben distribuirse normalmente. Puedes verificar esto con un test de normalidad como el test de Shapiro-Wilk."
   ]
  },
  {
   "cell_type": "code",
   "execution_count": null,
   "metadata": {},
   "outputs": [],
   "source": [
    "from scipy.stats import shapiro\n",
    "\n",
    "stat, p = shapiro(datos['tu_columna'])\n",
    "print('Estadístico de Shapiro-Wilk:', stat)\n",
    "print('P-valor:', p)\n",
    "\n",
    "# Interpretar el p-valor\n",
    "if p > 0.05:\n",
    "    print('La distribución parece normal.')\n",
    "else:\n",
    "    print('La distribución no parece normal.')"
   ]
  },
  {
   "cell_type": "markdown",
   "metadata": {},
   "source": [
    "## Paso 3: Realizar la Prueba respectica\n",
    "\n",
    "Una vez verificados y cumplidos los supuestos, puedes proceder con la prueba t."
   ]
  },
  {
   "cell_type": "code",
   "execution_count": null,
   "metadata": {},
   "outputs": [],
   "source": [
    "from scipy.stats import ttest_1samp\n",
    "\n",
    "# Media poblacional conocida\n",
    "media_poblacional = valor_conocido\n",
    "\n",
    "# Realizar prueba t\n",
    "t_stat, p_valor = ttest_1samp(datos['tu_columna'], media_poblacional)\n",
    "print('Estadístico t:', t_stat)\n",
    "print('P-valor:', p_valor)\n",
    "\n",
    "# Interpretar el p-valor\n",
    "if p_valor > 0.05:\n",
    "    print('No hay suficiente evidencia para rechazar la hipótesis nula.')\n",
    "else:\n",
    "    print('Hay suficiente evidencia para rechazar la hipótesis nula.')\n"
   ]
  },
  {
   "cell_type": "markdown",
   "metadata": {},
   "source": [
    "## Alternativa Paramétrica\n",
    "\n",
    "Si tus datos no cumplen con el supuesto de normalidad, puedes considerar usar una alternativa paramétrica como la prueba de Wilcoxon."
   ]
  },
  {
   "cell_type": "code",
   "execution_count": null,
   "metadata": {},
   "outputs": [],
   "source": [
    "from scipy.stats import wilcoxon\n",
    "\n",
    "# Realizar prueba de Wilcoxon\n",
    "w_stat, p_valor_w = wilcoxon(datos['tu_columna'] - media_poblacional)\n",
    "print('Estadístico Wilcoxon:', w_stat)\n",
    "print('P-valor:', p_valor_w)\n",
    "\n",
    "# Interpretar el p-valor\n",
    "if p_valor_w > 0.05:\n",
    "    print('No hay suficiente evidencia para rechazar la hipótesis nula.')\n",
    "else:\n",
    "    print('Hay suficiente evidencia para rechazar la hipótesis nula.')\n"
   ]
  },
  {
   "cell_type": "code",
   "execution_count": 2,
   "metadata": {},
   "outputs": [],
   "source": [
    "from scipy.stats import t, norm\n",
    "import numpy as np\n",
    "\n",
    "# Parámetros dados\n",
    "n = 10  # tamaño de la muestra\n",
    "alpha = 0.05  # nivel de significancia\n",
    "mean_difference = 0  # diferencia media esperada\n",
    "population_std = 1  # desviación estándar de la población\n",
    "\n",
    "# Cálculo del tamaño del efecto (Cohen's d)\n",
    "effect_size = mean_difference / population_std\n",
    "\n",
    "# Cálculo de los valores críticos\n",
    "t_critical = t.ppf(1 - alpha, df=n-1)\n",
    "z_critical = norm.ppf(1 - alpha)\n",
    "\n",
    "# Cálculo del poder estadístico\n",
    "power = norm.cdf((np.sqrt(n) * effect_size) - (t_critical - z_critical))\n",
    "power "
   ]
  }
 ],
 "metadata": {
  "kernelspec": {
   "display_name": "Python 3",
   "language": "python",
   "name": "python3"
  },
  "language_info": {
   "codemirror_mode": {
    "name": "ipython",
    "version": 3
   },
   "file_extension": ".py",
   "mimetype": "text/x-python",
   "name": "python",
   "nbconvert_exporter": "python",
   "pygments_lexer": "ipython3",
   "version": "3.11.6"
  }
 },
 "nbformat": 4,
 "nbformat_minor": 2
}
