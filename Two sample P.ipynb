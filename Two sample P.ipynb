{
 "cells": [
  {
   "cell_type": "markdown",
   "metadata": {},
   "source": [
    "# Realizar Pruebas con Muestras Pareadas en Python\n",
    "\n",
    "Este tutorial explica cómo realizar pruebas estadísticas para muestras pareadas en Python, comprobando los supuestos necesarios y utilizando una alternativa no paramétrica si los supuestos no se cumplen.\n",
    "\n",
    "## Pre-requisitos\n",
    "\n",
    "Antes de comenzar, asegúrate de tener instaladas las siguientes bibliotecas en Python:\n",
    "\n",
    "- pandas\n",
    "- scipy\n",
    "- openpyxl\n",
    "\n",
    "Instala estas bibliotecas usando pip si es necesario:\n",
    "\n",
    "```bash\n",
    "pip install pandas scipy openpyxl\n"
   ]
  },
  {
   "cell_type": "markdown",
   "metadata": {},
   "source": [
    "## Paso 1: Cargar los Datos desde Excel\n",
    "\n",
    "Carga los datos desde un archivo Excel. Asegúrate de que tu archivo tenga dos columnas, cada una representando una de las condiciones para el mismo grupo de sujetos."
   ]
  },
  {
   "cell_type": "code",
   "execution_count": null,
   "metadata": {},
   "outputs": [],
   "source": [
    "import pandas as pd\n",
    "\n",
    "# Cargar datos desde Excel\n",
    "archivo_excel = 'ruta/a/tu/archivo.xlsx'\n",
    "datos = pd.read_excel(archivo_excel)"
   ]
  },
  {
   "cell_type": "markdown",
   "metadata": {},
   "source": [
    "## Paso 2: Verificar Supuestos\n",
    "### Supuesto de Normalidad\n",
    "\n",
    "Comprueba la normalidad de las diferencias entre las dos condiciones usando, por ejemplo, el test de Shapiro-Wilk."
   ]
  },
  {
   "cell_type": "code",
   "execution_count": null,
   "metadata": {},
   "outputs": [],
   "source": [
    "from scipy.stats import shapiro\n",
    "\n",
    "diferencias = datos['condicion1'] - datos['condicion2']\n",
    "stat, p = shapiro(diferencias)\n",
    "print('Shapiro-Wilk:', stat, p)\n"
   ]
  },
  {
   "cell_type": "markdown",
   "metadata": {},
   "source": [
    "## Paso 3: Realizar la Prueba Apropiada\n",
    "### Prueba t para Muestras Pareadas\n",
    "\n",
    "Si se cumple el supuesto de normalidad, utiliza la prueba t para muestras pareadas."
   ]
  },
  {
   "cell_type": "code",
   "execution_count": null,
   "metadata": {},
   "outputs": [],
   "source": [
    "from scipy.stats import ttest_rel\n",
    "\n",
    "t_stat, p_valor = ttest_rel(datos['condicion1'], datos['condicion2'])\n",
    "print('t para Muestras Pareadas:', t_stat, p_valor)\n"
   ]
  },
  {
   "cell_type": "markdown",
   "metadata": {},
   "source": [
    "### Alternativa No Paramétrica: Prueba de Wilcoxon\n",
    "\n",
    "Si las diferencias no son normales, utiliza la prueba de Wilcoxon para muestras pareadas."
   ]
  },
  {
   "cell_type": "code",
   "execution_count": null,
   "metadata": {},
   "outputs": [],
   "source": [
    "from scipy.stats import wilcoxon\n",
    "\n",
    "w_stat, p_valor = wilcoxon(datos['condicion1'], datos['condicion2'])\n",
    "print('Wilcoxon:', w_stat, p_valor)\n"
   ]
  }
 ],
 "metadata": {
  "language_info": {
   "name": "python"
  }
 },
 "nbformat": 4,
 "nbformat_minor": 2
}
