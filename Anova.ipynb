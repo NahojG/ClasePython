{
 "cells": [
  {
   "cell_type": "markdown",
   "metadata": {},
   "source": [
    "# Realizar un Análisis de Varianza (ANOVA) en Python\n",
    "\n",
    "Este tutorial explica cómo realizar un análisis de varianza (ANOVA) en Python, utilizando una base de datos en Excel. Se incluye la verificación de supuestos y, en caso de no cumplirse, cómo aplicar una alternativa no paramétrica.\n",
    "\n",
    "## Pre-requisitos\n",
    "\n",
    "Antes de comenzar, asegúrate de tener instaladas las siguientes bibliotecas en Python:\n",
    "\n",
    "- pandas\n",
    "- scipy\n",
    "- openpyxl\n",
    "- statsmodels\n",
    "\n",
    "Puedes instalar estas bibliotecas usando pip:\n",
    "\n",
    "```bash\n",
    "pip install pandas scipy openpyxl statsmodels\n"
   ]
  },
  {
   "cell_type": "markdown",
   "metadata": {},
   "source": [
    "## Paso 1: Cargar los Datos desde Excel\n",
    "\n",
    "Carga los datos desde un archivo Excel. Asegúrate de que tu archivo tenga columnas separadas para cada grupo."
   ]
  },
  {
   "cell_type": "code",
   "execution_count": 1,
   "metadata": {},
   "outputs": [],
   "source": [
    "import pandas as pd\n",
    "\n",
    "# Cargar datos desde Excel\n",
    "archivo_excel = 'Anova.xlsx'\n",
    "datos = pd.read_excel(archivo_excel)\n"
   ]
  },
  {
   "cell_type": "markdown",
   "metadata": {},
   "source": [
    "## Paso 2: Verificar Supuestos\n",
    "\n",
    "Antes de realizar un ANOVA, debes verificar ciertos supuestos:\n",
    "\n",
    "### Supuesto de Normalidad\n",
    "\n",
    "Comprueba la normalidad para cada grupo usando, por ejemplo, el test de Shapiro-Wilk."
   ]
  },
  {
   "cell_type": "code",
   "execution_count": 2,
   "metadata": {},
   "outputs": [
    {
     "name": "stdout",
     "output_type": "stream",
     "text": [
      "Lovastatina - Shapiro-Wilk: 0.868596076965332 0.09626547247171402\n",
      "Atorvastatina - Shapiro-Wilk: 0.9281316995620728 0.4297696650028229\n",
      "Rosuvastatina - Shapiro-Wilk: 0.7523679733276367 0.0038137026131153107\n"
     ]
    }
   ],
   "source": [
    "from scipy.stats import shapiro\n",
    "\n",
    "# Realizar el test de Shapiro-Wilk para cada grupo\n",
    "for columna in datos.columns:\n",
    "    stat, p = shapiro(datos[columna])\n",
    "    print(f'{columna} - Shapiro-Wilk:', stat, p)"
   ]
  },
  {
   "cell_type": "markdown",
   "metadata": {},
   "source": [
    "### Supuesto de Homogeneidad de Varianzas\n",
    "\n",
    "Comprueba la homogeneidad de varianzas usando el test de Levene."
   ]
  },
  {
   "cell_type": "code",
   "execution_count": 3,
   "metadata": {},
   "outputs": [
    {
     "name": "stdout",
     "output_type": "stream",
     "text": [
      "Levene: 4.011403442832443 0.02983135624293939\n"
     ]
    }
   ],
   "source": [
    "from scipy.stats import levene\n",
    "\n",
    "stat, p = levene(*[datos[columna] for columna in datos.columns])\n",
    "print('Levene:', stat, p)\n"
   ]
  },
  {
   "cell_type": "markdown",
   "metadata": {},
   "source": [
    "## Paso 3: Realizar ANOVA\n",
    "\n",
    "Si se cumplen los supuestos, realiza un ANOVA."
   ]
  },
  {
   "cell_type": "code",
   "execution_count": 4,
   "metadata": {},
   "outputs": [
    {
     "name": "stdout",
     "output_type": "stream",
     "text": [
      "                 sum_sq    df          F        PR(>F)\n",
      "C(grupos)  66888.866667   2.0  26.577106  4.172584e-07\n",
      "Residual   33976.600000  27.0        NaN           NaN\n",
      "Valor de p: 4.1725841571794765e-07\n"
     ]
    },
    {
     "name": "stderr",
     "output_type": "stream",
     "text": [
      "/var/folders/81/c9g9b_jj49s3fl45mph4gpg00000gn/T/ipykernel_70177/1159113934.py:15: FutureWarning: Series.__getitem__ treating keys as positions is deprecated. In a future version, integer keys will always be treated as labels (consistent with DataFrame behavior). To access a value by position, use `ser.iloc[pos]`\n",
      "  valor_p = anova_resultados['PR(>F)'][0]\n"
     ]
    }
   ],
   "source": [
    "from statsmodels.formula.api import ols\n",
    "from statsmodels.stats.anova import anova_lm\n",
    "\n",
    "# Asegúrate de que tus datos están en formato largo para ANOVA\n",
    "datos_largos = pd.melt(datos, var_name='grupos', value_name='valores')\n",
    "\n",
    "# Ajustar el modelo\n",
    "modelo = ols('valores ~ C(grupos)', data=datos_largos).fit()\n",
    "\n",
    "# Realizar ANOVA\n",
    "anova_resultados = anova_lm(modelo, typ=2)\n",
    "print(anova_resultados)\n",
    "\n",
    "# Para imprimir específicamente el valor de p, puedes hacer algo como esto:\n",
    "valor_p = anova_resultados['PR(>F)'][0]\n",
    "print(f'Valor de p: {valor_p}')"
   ]
  },
  {
   "cell_type": "markdown",
   "metadata": {},
   "source": [
    "## Pruebas Post Hoc para ANOVA y su Alternativa No Paramétrica\n",
    "\n",
    "Después de realizar un ANOVA o su alternativa no paramétrica, si encuentras diferencias significativas, es importante realizar pruebas post hoc para identificar dónde están estas diferencias entre los grupos.\n",
    "\n",
    "## Pruebas Post Hoc para ANOVA\n",
    "\n",
    "Si el ANOVA revela diferencias significativas, utiliza pruebas post hoc como la prueba de Tukey.\n"
   ]
  },
  {
   "cell_type": "code",
   "execution_count": 5,
   "metadata": {},
   "outputs": [
    {
     "name": "stdout",
     "output_type": "stream",
     "text": [
      "         Multiple Comparison of Means - Tukey HSD, FWER=0.05         \n",
      "=====================================================================\n",
      "    group1        group2    meandiff p-adj    lower    upper   reject\n",
      "---------------------------------------------------------------------\n",
      "Atorvastatina   Lovastatina    -28.4 0.1919  -67.7344  10.9344  False\n",
      "Atorvastatina Rosuvastatina   -111.3    0.0 -150.6344 -71.9656   True\n",
      "  Lovastatina Rosuvastatina    -82.9    0.0 -122.2344 -43.5656   True\n",
      "---------------------------------------------------------------------\n"
     ]
    }
   ],
   "source": [
    "# Realizar prueba post hoc de Tukey\n",
    "from statsmodels.stats.multicomp import pairwise_tukeyhsd\n",
    "resultado_tukey = pairwise_tukeyhsd(datos_largos['valores'], datos_largos['grupos'])\n",
    "print(resultado_tukey)"
   ]
  },
  {
   "cell_type": "markdown",
   "metadata": {},
   "source": [
    "### Alternativa No Paramétrica: Prueba de Kruskal-Wallis\n",
    "\n",
    "Si no se cumplen los supuestos, usa la prueba de Kruskal-Wallis como alternativa no paramétrica."
   ]
  },
  {
   "cell_type": "code",
   "execution_count": null,
   "metadata": {},
   "outputs": [],
   "source": [
    "from scipy.stats import kruskal\n",
    "\n",
    "# Realizar prueba de Kruskal-Wallis\n",
    "stat, p = kruskal(*[datos[columna] for columna in datos.columns])\n",
    "print('Kruskal-Wallis:', stat, p)\n"
   ]
  },
  {
   "cell_type": "markdown",
   "metadata": {},
   "source": [
    "### Pruebas Post Hoc para la Prueba de Kruskal-Wallis\n",
    "\n",
    "Para la prueba de Kruskal-Wallis, puedes usar comparaciones por pares con ajustes de Bonferroni o Dunn.\n",
    "\n",
    "#### Método de Bonferroni"
   ]
  },
  {
   "cell_type": "code",
   "execution_count": null,
   "metadata": {},
   "outputs": [],
   "source": [
    "from statsmodels.sandbox.stats.multicomp import MultiComparison\n",
    "\n",
    "# Realizar comparaciones múltiples con corrección de Bonferroni\n",
    "mc = MultiComparison(datos_largos['valores'], datos_largos['grupos'])\n",
    "resultado_bonferroni = mc.allpairtest(stats.ranksums, method='bonf')\n",
    "print(resultado_bonferroni[0])\n"
   ]
  },
  {
   "cell_type": "markdown",
   "metadata": {},
   "source": [
    "#### Prueba de Dunn"
   ]
  },
  {
   "cell_type": "code",
   "execution_count": null,
   "metadata": {},
   "outputs": [],
   "source": [
    "from scikit_posthocs import posthoc_dunn\n",
    "\n",
    "# Realizar la prueba de Dunn\n",
    "resultado_dunn = posthoc_dunn(datos_largos, val_col='valores', group_col='grupos')\n",
    "print(resultado_dunn)"
   ]
  }
 ],
 "metadata": {
  "kernelspec": {
   "display_name": "Python 3",
   "language": "python",
   "name": "python3"
  },
  "language_info": {
   "codemirror_mode": {
    "name": "ipython",
    "version": 3
   },
   "file_extension": ".py",
   "mimetype": "text/x-python",
   "name": "python",
   "nbconvert_exporter": "python",
   "pygments_lexer": "ipython3",
   "version": "3.9.6"
  }
 },
 "nbformat": 4,
 "nbformat_minor": 2
}
